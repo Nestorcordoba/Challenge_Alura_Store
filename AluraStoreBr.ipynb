{
  "nbformat": 4,
  "nbformat_minor": 0,
  "metadata": {
    "colab": {
      "provenance": []
    },
    "kernelspec": {
      "name": "python3",
      "display_name": "Python 3"
    },
    "language_info": {
      "name": "python"
    }
  },
  "cells": [
    {
      "cell_type": "markdown",
      "source": [
        "### Importação dos dados\n",
        "\n"
      ],
      "metadata": {
        "id": "RhEdWd9YUR6H"
      }
    },
    {
      "cell_type": "code",
      "execution_count": 78,
      "metadata": {
        "id": "T3EvaeQ_INIL"
      },
      "outputs": [],
      "source": [
        "import pandas as pd\n",
        "\n",
        "url = \"https://raw.githubusercontent.com/Nestorcordoba/Challenge_Alura_Store/main/base_de_datos/loja_1.csv\"\n",
        "url2 = \"https://raw.githubusercontent.com/Nestorcordoba/Challenge_Alura_Store/main/base_de_datos/loja_2.csv\"\n",
        "url3 = \"https://raw.githubusercontent.com/Nestorcordoba/Challenge_Alura_Store/main/base_de_datos/loja_3.csv\"\n",
        "url4 = \"https://raw.githubusercontent.com/Nestorcordoba/Challenge_Alura_Store/main/base_de_datos/loja_4.csv\"\n",
        "\n",
        "loja1 = pd.read_csv(url)\n",
        "loja2 = pd.read_csv(url2)\n",
        "loja3 = pd.read_csv(url3)\n",
        "loja4 = pd.read_csv(url4)\n",
        "\n"
      ]
    },
    {
      "cell_type": "code",
      "source": [
        "# uso la funcion 'head()' para visualizar las primeras 5 filas de los Dataframes.\n",
        "\n",
        "head_loja1 = loja1.head()\n",
        "\n",
        "head_loja2 = loja2.head()\n",
        "\n",
        "head_loja3 = loja3.head()\n",
        "\n",
        "head_loja4 =loja4.head()\n",
        "\n"
      ],
      "metadata": {
        "id": "3VwKIHtk2Z-2"
      },
      "execution_count": 79,
      "outputs": []
    },
    {
      "cell_type": "code",
      "source": [
        "#uso la funcion 'info() para visualizar un resumen general de los DataFrames, como por ejemplo:\n",
        "'''\n",
        "- Cantidad de filas\n",
        "- Cantidad de columnas\n",
        "- Nombre de cada columna\n",
        "- Tipo de dato de cada columna\n",
        "- Cantidad de valores no nulos por columna\n",
        "- Uso de memoria total\n",
        "'''\n",
        "info_loja1 =loja1.info()\n",
        "\n",
        "info_loja2 =loja2.info()\n",
        "\n",
        "info_loja3 =loja3.info()\n",
        "\n",
        "info_loja4 =loja4.info()"
      ],
      "metadata": {
        "colab": {
          "base_uri": "https://localhost:8080/"
        },
        "id": "4MElT5zr2_VR",
        "outputId": "1e687436-d387-4f89-edf3-b2e368495a62"
      },
      "execution_count": 97,
      "outputs": [
        {
          "output_type": "stream",
          "name": "stdout",
          "text": [
            "<class 'pandas.core.frame.DataFrame'>\n",
            "RangeIndex: 2359 entries, 0 to 2358\n",
            "Data columns (total 14 columns):\n",
            " #   Column                  Non-Null Count  Dtype         \n",
            "---  ------                  --------------  -----         \n",
            " 0   Produto                 2359 non-null   object        \n",
            " 1   Categoria do Produto    2359 non-null   object        \n",
            " 2   Preço                   2359 non-null   float64       \n",
            " 3   Frete                   2359 non-null   float64       \n",
            " 4   Data da Compra          2359 non-null   datetime64[ns]\n",
            " 5   Vendedor                2359 non-null   object        \n",
            " 6   Local da compra         2359 non-null   object        \n",
            " 7   Avaliação da compra     2359 non-null   int64         \n",
            " 8   Tipo de pagamento       2359 non-null   object        \n",
            " 9   Quantidade de parcelas  2359 non-null   int64         \n",
            " 10  lat                     2359 non-null   float64       \n",
            " 11  lon                     2359 non-null   float64       \n",
            " 12  valor_total             2359 non-null   float64       \n",
            " 13  mes                     2359 non-null   period[M]     \n",
            "dtypes: datetime64[ns](1), float64(5), int64(2), object(5), period[M](1)\n",
            "memory usage: 258.1+ KB\n",
            "<class 'pandas.core.frame.DataFrame'>\n",
            "RangeIndex: 2359 entries, 0 to 2358\n",
            "Data columns (total 14 columns):\n",
            " #   Column                  Non-Null Count  Dtype         \n",
            "---  ------                  --------------  -----         \n",
            " 0   Produto                 2359 non-null   object        \n",
            " 1   Categoria do Produto    2359 non-null   object        \n",
            " 2   Preço                   2359 non-null   float64       \n",
            " 3   Frete                   2359 non-null   float64       \n",
            " 4   Data da Compra          2359 non-null   datetime64[ns]\n",
            " 5   Vendedor                2359 non-null   object        \n",
            " 6   Local da compra         2359 non-null   object        \n",
            " 7   Avaliação da compra     2359 non-null   int64         \n",
            " 8   Tipo de pagamento       2359 non-null   object        \n",
            " 9   Quantidade de parcelas  2359 non-null   int64         \n",
            " 10  lat                     2359 non-null   float64       \n",
            " 11  lon                     2359 non-null   float64       \n",
            " 12  valor_total             2359 non-null   float64       \n",
            " 13  mes                     2359 non-null   period[M]     \n",
            "dtypes: datetime64[ns](1), float64(5), int64(2), object(5), period[M](1)\n",
            "memory usage: 258.1+ KB\n",
            "<class 'pandas.core.frame.DataFrame'>\n",
            "RangeIndex: 2359 entries, 0 to 2358\n",
            "Data columns (total 14 columns):\n",
            " #   Column                  Non-Null Count  Dtype         \n",
            "---  ------                  --------------  -----         \n",
            " 0   Produto                 2359 non-null   object        \n",
            " 1   Categoria do Produto    2359 non-null   object        \n",
            " 2   Preço                   2359 non-null   float64       \n",
            " 3   Frete                   2359 non-null   float64       \n",
            " 4   Data da Compra          2359 non-null   datetime64[ns]\n",
            " 5   Vendedor                2359 non-null   object        \n",
            " 6   Local da compra         2359 non-null   object        \n",
            " 7   Avaliação da compra     2359 non-null   int64         \n",
            " 8   Tipo de pagamento       2359 non-null   object        \n",
            " 9   Quantidade de parcelas  2359 non-null   int64         \n",
            " 10  lat                     2359 non-null   float64       \n",
            " 11  lon                     2359 non-null   float64       \n",
            " 12  valor_total             2359 non-null   float64       \n",
            " 13  mes                     2359 non-null   period[M]     \n",
            "dtypes: datetime64[ns](1), float64(5), int64(2), object(5), period[M](1)\n",
            "memory usage: 258.1+ KB\n",
            "<class 'pandas.core.frame.DataFrame'>\n",
            "RangeIndex: 2358 entries, 0 to 2357\n",
            "Data columns (total 14 columns):\n",
            " #   Column                  Non-Null Count  Dtype         \n",
            "---  ------                  --------------  -----         \n",
            " 0   Produto                 2358 non-null   object        \n",
            " 1   Categoria do Produto    2358 non-null   object        \n",
            " 2   Preço                   2358 non-null   float64       \n",
            " 3   Frete                   2358 non-null   float64       \n",
            " 4   Data da Compra          2358 non-null   datetime64[ns]\n",
            " 5   Vendedor                2358 non-null   object        \n",
            " 6   Local da compra         2358 non-null   object        \n",
            " 7   Avaliação da compra     2358 non-null   int64         \n",
            " 8   Tipo de pagamento       2358 non-null   object        \n",
            " 9   Quantidade de parcelas  2358 non-null   int64         \n",
            " 10  lat                     2358 non-null   float64       \n",
            " 11  lon                     2358 non-null   float64       \n",
            " 12  valor_total             2358 non-null   float64       \n",
            " 13  mes                     2358 non-null   period[M]     \n",
            "dtypes: datetime64[ns](1), float64(5), int64(2), object(5), period[M](1)\n",
            "memory usage: 258.0+ KB\n"
          ]
        }
      ]
    },
    {
      "cell_type": "code",
      "source": [
        "# uso el metodo 'shape' para saber cuántas filas y columnas tiene los Dataframes\n",
        "\n",
        "filas_loja1, columnas_loja1 = loja1.shape\n",
        "print(f\"El DataFrame loja1 tiene {filas_loja1} filas y {columnas_loja1} columnas.\")\n",
        "\n",
        "filas_loja2, columnas_loja2 = loja1.shape\n",
        "print(f\"El DataFrame loja2 tiene {filas_loja2} filas y {columnas_loja2} columnas.\")\n",
        "\n",
        "filas_loja3, columnas_loja3 = loja1.shape\n",
        "print(f\"El DataFrame loja3 tiene {filas_loja3} filas y {columnas_loja3} columnas.\")\n",
        "\n",
        "filas_loja4, columnas_loja4 = loja1.shape\n",
        "print(f\"El DataFrame loja4 tiene {filas_loja4} filas y {columnas_loja4} columnas.\")\n",
        "\n"
      ],
      "metadata": {
        "colab": {
          "base_uri": "https://localhost:8080/"
        },
        "id": "jjRUz79C5Wje",
        "outputId": "711c5deb-5350-425e-fdef-26cf50d211af"
      },
      "execution_count": 100,
      "outputs": [
        {
          "output_type": "stream",
          "name": "stdout",
          "text": [
            "El DataFrame loja1 tiene 2359 filas y 14 columnas.\n",
            "El DataFrame loja2 tiene 2359 filas y 14 columnas.\n",
            "El DataFrame loja3 tiene 2359 filas y 14 columnas.\n",
            "El DataFrame loja4 tiene 2359 filas y 14 columnas.\n"
          ]
        }
      ]
    },
    {
      "cell_type": "markdown",
      "source": [
        "#1. Análise do faturamento\n"
      ],
      "metadata": {
        "id": "X62IW3KFUIYm"
      }
    },
    {
      "cell_type": "code",
      "source": [
        "# suponiendo que el flete lo paga el cliente\n",
        "## Precio del producto + Flete (costo de envío)\n",
        "# La columna \"loja1['valor_total']\"\" representa la facturación total por cada venta.\n",
        "loja1['valor_total'] = loja1['Preço'] + loja1['Frete']\n",
        "\n",
        "\n",
        "loja2['valor_total'] = loja2['Preço'] + loja2['Frete']\n",
        "\n",
        "\n",
        "loja3['valor_total'] = loja3['Preço'] + loja3['Frete']\n",
        "\n",
        "\n",
        "loja4['valor_total'] = loja4['Preço'] + loja4['Frete']\n",
        "\n"
      ],
      "metadata": {
        "id": "xykobSftV64I"
      },
      "execution_count": 85,
      "outputs": []
    },
    {
      "cell_type": "code",
      "source": [
        "#calculando la facturación total por lojas:\n",
        "facturacion_total_loja1 = loja1['valor_total']\n",
        "\n",
        "\n",
        "facturacion_total_loja2 = loja2['valor_total']\n",
        "\n",
        "\n",
        "facturacion_total_loja3 = loja3['valor_total']\n",
        "\n",
        "\n",
        "facturacion_total_loja4 = loja4['valor_total']\n"
      ],
      "metadata": {
        "id": "KDyr8E71V3m-"
      },
      "execution_count": 86,
      "outputs": []
    },
    {
      "cell_type": "code",
      "source": [
        "# Facturacion por producto por lojas:\n",
        "facturacion_por_producto_loja1 = loja1.groupby('Produto')['valor_total'].sum().sort_values(ascending=False)\n",
        "\n",
        "\n",
        "facturacion_por_producto_loja2 = loja2.groupby('Produto')['valor_total'].sum().sort_values(ascending=False)\n",
        "\n",
        "\n",
        "facturacion_por_producto_loja3 = loja3.groupby('Produto')['valor_total'].sum().sort_values(ascending=False)\n",
        "\n",
        "\n",
        "facturacion_por_producto_loja4 = loja4.groupby('Produto')['valor_total'].sum().sort_values(ascending=False)\n",
        "\n",
        "\n"
      ],
      "metadata": {
        "id": "OsEP7osoBpDr"
      },
      "execution_count": 87,
      "outputs": []
    },
    {
      "cell_type": "code",
      "source": [
        "# factuiracion mensual(por fecha) convirtiendo la columna de fecha\n",
        "loja1['Data da Compra'] = pd.to_datetime(loja1['Data da Compra'], dayfirst=True)\n",
        "\n",
        "loja2['Data da Compra'] = pd.to_datetime(loja2['Data da Compra'], dayfirst=True)\n",
        "\n",
        "loja3['Data da Compra'] = pd.to_datetime(loja3['Data da Compra'], dayfirst=True)\n",
        "\n",
        "loja4['Data da Compra'] = pd.to_datetime(loja4['Data da Compra'], dayfirst=True)"
      ],
      "metadata": {
        "id": "9G6x5jWGDCq9"
      },
      "execution_count": 91,
      "outputs": []
    },
    {
      "cell_type": "code",
      "source": [
        "# creo una columna llamada mes para agruparla por mes:\n",
        "loja1['mes'] = loja1['Data da Compra'].dt.to_period('M')\n",
        "facturacion_mensual_loja1 = loja1.groupby('mes')['valor_total'].sum()\n",
        "\n",
        "loja2['mes'] = loja2['Data da Compra'].dt.to_period('M')\n",
        "facturacion_mensual_loja2 = loja2.groupby('mes')['valor_total'].sum()\n",
        "\n",
        "loja3['mes'] = loja3['Data da Compra'].dt.to_period('M')\n",
        "facturacion_mensual_loja3 = loja3.groupby('mes')['valor_total'].sum()\n",
        "\n",
        "loja4['mes'] = loja4['Data da Compra'].dt.to_period('M')\n",
        "facturacion_mensual_loja4 = loja4.groupby('mes')['valor_total'].sum()\n",
        "\n"
      ],
      "metadata": {
        "id": "m6AsVBR3EqQ6"
      },
      "execution_count": 92,
      "outputs": []
    },
    {
      "cell_type": "markdown",
      "source": [
        "# 2. Vendas por Categoria\n"
      ],
      "metadata": {
        "id": "2V_vcAPzWZmR"
      }
    },
    {
      "cell_type": "code",
      "source": [
        "# agrupo por 'categoria do Produto'\n",
        "\n",
        "ventas_por_categoria_loja1 = loja1.groupby('Categoria do Produto')['valor_total'].sum().sort_values(ascending=False)\n",
        "\n",
        "ventas_por_categoria_loja2 = loja2.groupby('Categoria do Produto')['valor_total'].sum().sort_values(ascending=False)\n",
        "\n",
        "ventas_por_categoria_loja3 = loja3.groupby('Categoria do Produto')['valor_total'].sum().sort_values(ascending=False)\n",
        "\n",
        "ventas_por_categoria_loja4 = loja4.groupby('Categoria do Produto')['valor_total'].sum().sort_values(ascending=False)\n"
      ],
      "metadata": {
        "id": "A34YupIuYhfF"
      },
      "execution_count": 93,
      "outputs": []
    },
    {
      "cell_type": "markdown",
      "source": [
        "# 3. Média de Avaliação das Lojas"
      ],
      "metadata": {
        "id": "Rq6tU_xSY3jk"
      }
    },
    {
      "cell_type": "code",
      "source": [
        "# uso la funcion 'mean()' para calcular el promedio con pandas porque con el mismo me aseguro de ingnorar los valores NaN\n",
        "media_loja1 = loja1['Avaliação da compra'].mean()\n",
        "print(f\"El promedio de puntuacion da loja1 es : {media_loja1}\")\n",
        "\n",
        "media_loja2 = loja2['Avaliação da compra'].mean()\n",
        "print(f\"El promedio de puntuacion da loja1 es : {media_loja2}\")\n",
        "\n",
        "media_loja3 = loja3['Avaliação da compra'].mean()\n",
        "print(f\"El promedio de puntuacion da loja1 es : {media_loja3}\")\n",
        "\n",
        "media_loja4 = loja4['Avaliação da compra'].mean()\n",
        "print(f\"El promedio de puntuacion da loja1 es : {media_loja4}\")\n"
      ],
      "metadata": {
        "id": "bh3jjjJwY5MU",
        "colab": {
          "base_uri": "https://localhost:8080/"
        },
        "outputId": "ee67a8f9-adb3-40a9-8ed0-06d1a4135915"
      },
      "execution_count": 94,
      "outputs": [
        {
          "output_type": "stream",
          "name": "stdout",
          "text": [
            "El promedio de puntuacion da loja1 es : 3.976685036032217\n",
            "El promedio de puntuacion da loja1 es : 4.037303942348453\n",
            "El promedio de puntuacion da loja1 es : 4.048325561678677\n",
            "El promedio de puntuacion da loja1 es : 3.9957591178965224\n"
          ]
        }
      ]
    },
    {
      "cell_type": "markdown",
      "source": [
        "# 4. Produtos Mais e Menos Vendidos"
      ],
      "metadata": {
        "id": "DmNp1KPBZCm-"
      }
    },
    {
      "cell_type": "code",
      "source": [
        "# productos mas vendidos\n",
        "'''\n",
        "1) Contamos cuántas veces aparece cada valor único con la funcion integrada 'value_counts()'\n",
        "2) Verificamos cual el el producto más vendido con la función integrada 'idxmax()'\n",
        "3) De los productos contados verificamos cual/les tiene/n el valor máximo con la función integrada 'max()' para saber el numero especifico\n",
        "'''\n",
        "cantidad_productos_vendidos_loja1 = loja1['Produto'].value_counts()\n",
        "nombre_producto_mas_vendido_loja1 = cantidad_productos_vendidos_loja1.idxmax()\n",
        "valor_maximo_cantidad_vendidos_loja1 = cantidad_productos_vendidos_loja1.max()\n",
        "\n",
        "print(f\"Producto más vendido en loja1: {nombre_producto_mas_vendido_loja1} ({valor_maximo_cantidad_vendidos_loja1} ventas)\")\n",
        "\n",
        "cantidad_productos_vendidos_loja2 = loja2['Produto'].value_counts()\n",
        "nombre_producto_mas_vendido_loja2 = cantidad_productos_vendidos_loja2.idxmax()\n",
        "valor_maximo_cantidad_vendidos_loja2 = cantidad_productos_vendidos_loja2.max()\n",
        "\n",
        "print(f\"Producto más vendido en loja2: {nombre_producto_mas_vendido_loja2} ({valor_maximo_cantidad_vendidos_loja2} ventas)\")\n",
        "\n",
        "cantidad_productos_vendidos_loja3 = loja3['Produto'].value_counts()\n",
        "nombre_producto_mas_vendido_loja3 = cantidad_productos_vendidos_loja3.idxmax()\n",
        "valor_maximo_cantidad_vendidos_loja3 = cantidad_productos_vendidos_loja3.max()\n",
        "\n",
        "print(f\"Producto más vendido en loja3: {nombre_producto_mas_vendido_loja3} ({valor_maximo_cantidad_vendidos_loja3} ventas)\")\n",
        "\n",
        "cantidad_productos_vendidos_loja4 = loja4['Produto'].value_counts()\n",
        "nombre_producto_mas_vendido_loja4 = cantidad_productos_vendidos_loja4.idxmax()\n",
        "valor_maximo_cantidad_vendidos_loja4 = cantidad_productos_vendidos_loja4.max()\n",
        "\n",
        "print(f\"Producto más vendido en loja4: {nombre_producto_mas_vendido_loja4} ({valor_maximo_cantidad_vendidos_loja4} ventas)\")"
      ],
      "metadata": {
        "id": "qoyjqijQZHfF",
        "colab": {
          "base_uri": "https://localhost:8080/"
        },
        "outputId": "2bb529de-59f0-4678-c78c-1dfe3045627f"
      },
      "execution_count": 95,
      "outputs": [
        {
          "output_type": "stream",
          "name": "stdout",
          "text": [
            "Producto más vendido en loja1: Micro-ondas (60 ventas)\n",
            "Producto más vendido en loja2: Iniciando em programação (65 ventas)\n",
            "Producto más vendido en loja3: Kit banquetas (57 ventas)\n",
            "Producto más vendido en loja4: Cama box (62 ventas)\n"
          ]
        }
      ]
    },
    {
      "cell_type": "markdown",
      "source": [
        "# 5. Frete Médio por Loja\n"
      ],
      "metadata": {
        "id": "Fl0cGi3bZKqU"
      }
    },
    {
      "cell_type": "code",
      "source": [
        "# uso la funcion 'mean()' para calcular el promedio con pandas porque con el mismo me aseguro de ingnorar los valores NaN\n",
        "flete_promedio_loja1 = loja1['Frete'].mean()\n",
        "print(\"El promedio de facturacion de felete da loja1 es :\", flete_promedio_loja1)\n",
        "\n",
        "flete_promedio_loja2 = loja2['Frete'].mean()\n",
        "print(\"El promedio de facturacion de felete da loja1 es :\", flete_promedio_loja2)\n",
        "\n",
        "flete_promedio_loja3 = loja3['Frete'].mean()\n",
        "print(\"El promedio de facturacion de felete da loja1 es :\", flete_promedio_loja3)\n",
        "\n",
        "flete_promedio_loja4 = loja4['Frete'].mean()\n",
        "print(\"El promedio de facturacion de felete da loja1 es :\", flete_promedio_loja4)\n"
      ],
      "metadata": {
        "id": "S2JeaCykZNy9",
        "outputId": "221a3b60-5ef4-4c03-f8f5-633578828f0f",
        "colab": {
          "base_uri": "https://localhost:8080/"
        }
      },
      "execution_count": 96,
      "outputs": [
        {
          "output_type": "stream",
          "name": "stdout",
          "text": [
            "El promedio de facturacion de felete da loja1 es : 34.69180491551149\n",
            "El promedio de facturacion de felete da loja1 es : 33.62194065817927\n",
            "El promedio de facturacion de felete da loja1 es : 33.07446427411743\n",
            "El promedio de facturacion de felete da loja1 es : 31.278997081841727\n"
          ]
        }
      ]
    },
    {
      "cell_type": "code",
      "source": [],
      "metadata": {
        "id": "0tSdCie9ZQlt"
      },
      "execution_count": 96,
      "outputs": []
    }
  ]
}